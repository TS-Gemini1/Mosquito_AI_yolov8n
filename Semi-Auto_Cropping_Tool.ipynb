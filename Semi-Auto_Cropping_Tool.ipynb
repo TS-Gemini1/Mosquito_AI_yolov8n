{
 "cells": [
  {
   "cell_type": "code",
   "execution_count": null,
   "id": "f5460b4b",
   "metadata": {},
   "outputs": [
    {
     "name": "stdout",
     "output_type": "stream",
     "text": [
      "\n",
      "🎯 Done! 0 crops saved to: C:\\Users\\theod\\Documents\\UNI\\thesis\\DATA_tiles1\\stick_crops_m2\n"
     ]
    }
   ],
   "source": [
    "import cv2\n",
    "import os\n",
    "import numpy as np\n",
    "import matplotlib\n",
    "import matplotlib.pyplot as plt\n",
    "\n",
    "matplotlib.use('TkAgg')  # Ensure GUI popup works\n",
    "\n",
    "# --- Config ---\n",
    "image_path = r\"C:\\Users\\theod\\Documents\\UNI\\thesis\\DATA_tiles1\\TILES_2.png\"\n",
    "output_dir = r\"C:\\Users\\theod\\Documents\\UNI\\thesis\\DATA_tiles1\\stick_crops_m2\"\n",
    "os.makedirs(output_dir, exist_ok=True)\n",
    "\n",
    "crop_w, crop_h = 640, 1920  # output crop size\n",
    "box_w, box_h = 222, 1766    # visual guide size\n",
    "\n",
    "img = cv2.imread(image_path)\n",
    "img_rgb = cv2.cvtColor(img, cv2.COLOR_BGR2RGB)\n",
    "img_h, img_w = img.shape[:2]\n",
    "\n",
    "clicks = []\n",
    "\n",
    "# --- Mouse tracking ---\n",
    "fig, ax = plt.subplots(figsize=(12, 12))\n",
    "ax.imshow(img_rgb)\n",
    "ax.set_title(\"Click stick centers. Press ENTER when done.\")\n",
    "\n",
    "cursor_box = ax.add_patch(\n",
    "    plt.Rectangle((0, 0), box_w, box_h, linewidth=1.5, edgecolor='red', facecolor='none', visible=False)\n",
    ")\n",
    "\n",
    "def on_move(event):\n",
    "    if event.xdata is not None and event.ydata is not None:\n",
    "        cx, cy = int(event.xdata), int(event.ydata)\n",
    "        cursor_box.set_visible(True)\n",
    "        cursor_box.set_xy((cx - box_w / 2, cy - box_h / 2))\n",
    "        fig.canvas.draw_idle()\n",
    "\n",
    "def on_click(event):\n",
    "    if event.xdata is not None and event.ydata is not None:\n",
    "        cx, cy = int(event.xdata), int(event.ydata)\n",
    "        clicks.append((cx, cy))\n",
    "        ax.plot(cx, cy, 'go')\n",
    "        print(f\"🖱️ Clicked: ({cx}, {cy})\")\n",
    "        fig.canvas.draw_idle()\n",
    "\n",
    "fig.canvas.mpl_connect('motion_notify_event', on_move)\n",
    "fig.canvas.mpl_connect('button_press_event', on_click)\n",
    "plt.show()\n",
    "\n",
    "# --- Crop and save ---\n",
    "for idx, (cx, cy) in enumerate(clicks):\n",
    "    cx, cy = int(cx), int(cy)\n",
    "    x1 = cx - crop_w // 2\n",
    "    y1 = cy - crop_h // 2\n",
    "    x2 = cx + crop_w // 2\n",
    "    y2 = cy + crop_h // 2\n",
    "\n",
    "    crop = np.zeros((crop_h, crop_w, 3), dtype=np.uint8)\n",
    "    x1_img, y1_img = max(0, x1), max(0, y1)\n",
    "    x2_img, y2_img = min(img_w, x2), min(img_h, y2)\n",
    "\n",
    "    crop_x1, crop_y1 = x1_img - x1, y1_img - y1\n",
    "    crop_x2 = crop_x1 + (x2_img - x1_img)\n",
    "    crop_y2 = crop_y1 + (y2_img - y1_img)\n",
    "\n",
    "    crop[crop_y1:crop_y2, crop_x1:crop_x2] = img_rgb[y1_img:y2_img, x1_img:x2_img]\n",
    "    crop_bgr = cv2.cvtColor(crop, cv2.COLOR_RGB2BGR)\n",
    "\n",
    "    out_path = os.path.join(output_dir, f\"B_stick_{idx:03}.png\")\n",
    "    cv2.imwrite(out_path, crop_bgr)\n",
    "    print(f\" Saved: {out_path}\")\n",
    "\n",
    "print(f\"\\n Done! {len(clicks)} crops saved to: {output_dir}\")\n"
   ]
  }
 ],
 "metadata": {
  "kernelspec": {
   "display_name": "Python 3",
   "language": "python",
   "name": "python3"
  },
  "language_info": {
   "codemirror_mode": {
    "name": "ipython",
    "version": 3
   },
   "file_extension": ".py",
   "mimetype": "text/x-python",
   "name": "python",
   "nbconvert_exporter": "python",
   "pygments_lexer": "ipython3",
   "version": "3.13.2"
  }
 },
 "nbformat": 4,
 "nbformat_minor": 5
}
